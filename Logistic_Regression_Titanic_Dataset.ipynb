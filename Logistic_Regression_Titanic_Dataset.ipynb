{
 "cells": [
  {
   "cell_type": "code",
   "execution_count": 1,
   "metadata": {},
   "outputs": [],
   "source": [
    "import pandas as pd\n",
    "import numpy as np\n",
    "import matplotlib.pyplot as plt\n",
    "%matplotlib inline\n",
    "import seaborn as sns"
   ]
  },
  {
   "cell_type": "code",
   "execution_count": 2,
   "metadata": {},
   "outputs": [],
   "source": [
    "train = pd.read_csv('titanic_train.csv')"
   ]
  },
  {
   "cell_type": "code",
   "execution_count": 3,
   "metadata": {
    "scrolled": true
   },
   "outputs": [
    {
     "data": {
      "text/html": [
       "<div>\n",
       "<style scoped>\n",
       "    .dataframe tbody tr th:only-of-type {\n",
       "        vertical-align: middle;\n",
       "    }\n",
       "\n",
       "    .dataframe tbody tr th {\n",
       "        vertical-align: top;\n",
       "    }\n",
       "\n",
       "    .dataframe thead th {\n",
       "        text-align: right;\n",
       "    }\n",
       "</style>\n",
       "<table border=\"1\" class=\"dataframe\">\n",
       "  <thead>\n",
       "    <tr style=\"text-align: right;\">\n",
       "      <th></th>\n",
       "      <th>PassengerId</th>\n",
       "      <th>Survived</th>\n",
       "      <th>Pclass</th>\n",
       "      <th>Name</th>\n",
       "      <th>Sex</th>\n",
       "      <th>Age</th>\n",
       "      <th>SibSp</th>\n",
       "      <th>Parch</th>\n",
       "      <th>Ticket</th>\n",
       "      <th>Fare</th>\n",
       "      <th>Cabin</th>\n",
       "      <th>Embarked</th>\n",
       "    </tr>\n",
       "  </thead>\n",
       "  <tbody>\n",
       "    <tr>\n",
       "      <th>0</th>\n",
       "      <td>1</td>\n",
       "      <td>0</td>\n",
       "      <td>3</td>\n",
       "      <td>Braund, Mr. Owen Harris</td>\n",
       "      <td>male</td>\n",
       "      <td>22.0</td>\n",
       "      <td>1</td>\n",
       "      <td>0</td>\n",
       "      <td>A/5 21171</td>\n",
       "      <td>7.2500</td>\n",
       "      <td>NaN</td>\n",
       "      <td>S</td>\n",
       "    </tr>\n",
       "    <tr>\n",
       "      <th>1</th>\n",
       "      <td>2</td>\n",
       "      <td>1</td>\n",
       "      <td>1</td>\n",
       "      <td>Cumings, Mrs. John Bradley (Florence Briggs Th...</td>\n",
       "      <td>female</td>\n",
       "      <td>38.0</td>\n",
       "      <td>1</td>\n",
       "      <td>0</td>\n",
       "      <td>PC 17599</td>\n",
       "      <td>71.2833</td>\n",
       "      <td>C85</td>\n",
       "      <td>C</td>\n",
       "    </tr>\n",
       "    <tr>\n",
       "      <th>2</th>\n",
       "      <td>3</td>\n",
       "      <td>1</td>\n",
       "      <td>3</td>\n",
       "      <td>Heikkinen, Miss. Laina</td>\n",
       "      <td>female</td>\n",
       "      <td>26.0</td>\n",
       "      <td>0</td>\n",
       "      <td>0</td>\n",
       "      <td>STON/O2. 3101282</td>\n",
       "      <td>7.9250</td>\n",
       "      <td>NaN</td>\n",
       "      <td>S</td>\n",
       "    </tr>\n",
       "    <tr>\n",
       "      <th>3</th>\n",
       "      <td>4</td>\n",
       "      <td>1</td>\n",
       "      <td>1</td>\n",
       "      <td>Futrelle, Mrs. Jacques Heath (Lily May Peel)</td>\n",
       "      <td>female</td>\n",
       "      <td>35.0</td>\n",
       "      <td>1</td>\n",
       "      <td>0</td>\n",
       "      <td>113803</td>\n",
       "      <td>53.1000</td>\n",
       "      <td>C123</td>\n",
       "      <td>S</td>\n",
       "    </tr>\n",
       "    <tr>\n",
       "      <th>4</th>\n",
       "      <td>5</td>\n",
       "      <td>0</td>\n",
       "      <td>3</td>\n",
       "      <td>Allen, Mr. William Henry</td>\n",
       "      <td>male</td>\n",
       "      <td>35.0</td>\n",
       "      <td>0</td>\n",
       "      <td>0</td>\n",
       "      <td>373450</td>\n",
       "      <td>8.0500</td>\n",
       "      <td>NaN</td>\n",
       "      <td>S</td>\n",
       "    </tr>\n",
       "  </tbody>\n",
       "</table>\n",
       "</div>"
      ],
      "text/plain": [
       "   PassengerId  Survived  Pclass  \\\n",
       "0            1         0       3   \n",
       "1            2         1       1   \n",
       "2            3         1       3   \n",
       "3            4         1       1   \n",
       "4            5         0       3   \n",
       "\n",
       "                                                Name     Sex   Age  SibSp  \\\n",
       "0                            Braund, Mr. Owen Harris    male  22.0      1   \n",
       "1  Cumings, Mrs. John Bradley (Florence Briggs Th...  female  38.0      1   \n",
       "2                             Heikkinen, Miss. Laina  female  26.0      0   \n",
       "3       Futrelle, Mrs. Jacques Heath (Lily May Peel)  female  35.0      1   \n",
       "4                           Allen, Mr. William Henry    male  35.0      0   \n",
       "\n",
       "   Parch            Ticket     Fare Cabin Embarked  \n",
       "0      0         A/5 21171   7.2500   NaN        S  \n",
       "1      0          PC 17599  71.2833   C85        C  \n",
       "2      0  STON/O2. 3101282   7.9250   NaN        S  \n",
       "3      0            113803  53.1000  C123        S  \n",
       "4      0            373450   8.0500   NaN        S  "
      ]
     },
     "execution_count": 3,
     "metadata": {},
     "output_type": "execute_result"
    }
   ],
   "source": [
    "train.head()"
   ]
  },
  {
   "cell_type": "code",
   "execution_count": 4,
   "metadata": {
    "scrolled": true
   },
   "outputs": [
    {
     "name": "stdout",
     "output_type": "stream",
     "text": [
      "<class 'pandas.core.frame.DataFrame'>\n",
      "RangeIndex: 891 entries, 0 to 890\n",
      "Data columns (total 12 columns):\n",
      "PassengerId    891 non-null int64\n",
      "Survived       891 non-null int64\n",
      "Pclass         891 non-null int64\n",
      "Name           891 non-null object\n",
      "Sex            891 non-null object\n",
      "Age            714 non-null float64\n",
      "SibSp          891 non-null int64\n",
      "Parch          891 non-null int64\n",
      "Ticket         891 non-null object\n",
      "Fare           891 non-null float64\n",
      "Cabin          204 non-null object\n",
      "Embarked       889 non-null object\n",
      "dtypes: float64(2), int64(5), object(5)\n",
      "memory usage: 83.6+ KB\n"
     ]
    }
   ],
   "source": [
    "train.info()"
   ]
  },
  {
   "cell_type": "code",
   "execution_count": 5,
   "metadata": {
    "scrolled": true
   },
   "outputs": [
    {
     "data": {
      "text/plain": [
       "<matplotlib.axes._subplots.AxesSubplot at 0x1767a6b3240>"
      ]
     },
     "execution_count": 5,
     "metadata": {},
     "output_type": "execute_result"
    },
    {
     "data": {
      "image/png": "[encoded data removed]",
      "text/plain": [
       "<Figure size 432x288 with 1 Axes>"
      ]
     },
     "metadata": {
      "needs_background": "light"
     },
     "output_type": "display_data"
    }
   ],
   "source": [
    "sns.countplot(x='Survived',hue='Sex',data=train)"
   ]
  },
  {
   "cell_type": "code",
   "execution_count": 6,
   "metadata": {
    "scrolled": true
   },
   "outputs": [
    {
     "data": {
      "text/plain": [
       "<matplotlib.axes._subplots.AxesSubplot at 0x1767a796048>"
      ]
     },
     "execution_count": 6,
     "metadata": {},
     "output_type": "execute_result"
    },
    {
     "data": {
      "image/png": "[encoded data removed]",
      "text/plain": [
       "<Figure size 432x288 with 1 Axes>"
      ]
     },
     "metadata": {
      "needs_background": "light"
     },
     "output_type": "display_data"
    }
   ],
   "source": [
    "sns.countplot(x='Pclass',hue='Survived',data=train)"
   ]
  },
  {
   "cell_type": "code",
   "execution_count": 7,
   "metadata": {
    "scrolled": true
   },
   "outputs": [
    {
     "data": {
      "text/plain": [
       "0    678\n",
       "1    118\n",
       "2     80\n",
       "5      5\n",
       "3      5\n",
       "4      4\n",
       "6      1\n",
       "Name: Parch, dtype: int64"
      ]
     },
     "execution_count": 7,
     "metadata": {},
     "output_type": "execute_result"
    }
   ],
   "source": [
    "train['Parch'].value_counts()"
   ]
  },
  {
   "cell_type": "code",
   "execution_count": 8,
   "metadata": {
    "scrolled": true
   },
   "outputs": [
    {
     "data": {
      "text/plain": [
       "PassengerId      0\n",
       "Survived         0\n",
       "Pclass           0\n",
       "Name             0\n",
       "Sex              0\n",
       "Age            177\n",
       "SibSp            0\n",
       "Parch            0\n",
       "Ticket           0\n",
       "Fare             0\n",
       "Cabin          687\n",
       "Embarked         2\n",
       "dtype: int64"
      ]
     },
     "execution_count": 8,
     "metadata": {},
     "output_type": "execute_result"
    }
   ],
   "source": [
    "train.isnull().sum()"
   ]
  },
  {
   "cell_type": "code",
   "execution_count": 9,
   "metadata": {
    "scrolled": true
   },
   "outputs": [
    {
     "data": {
      "text/plain": [
       "<matplotlib.axes._subplots.AxesSubplot at 0x1767a813400>"
      ]
     },
     "execution_count": 9,
     "metadata": {},
     "output_type": "execute_result"
    },
    {
     "data": {
      "image/png": "[encoded data removed]",
      "text/plain": [
       "<Figure size 432x288 with 1 Axes>"
      ]
     },
     "metadata": {
      "needs_background": "light"
     },
     "output_type": "display_data"
    }
   ],
   "source": [
    "sns.boxplot(x='Pclass',y='Age',data=train)"
   ]
  },
  {
   "cell_type": "code",
   "execution_count": 10,
   "metadata": {
    "scrolled": true
   },
   "outputs": [
    {
     "data": {
      "text/plain": [
       "<matplotlib.axes._subplots.AxesSubplot at 0x1767a8b5710>"
      ]
     },
     "execution_count": 10,
     "metadata": {},
     "output_type": "execute_result"
    },
    {
     "data": {
      "image/png": "[encoded data removed]",
      "text/plain": [
       "<Figure size 432x288 with 1 Axes>"
      ]
     },
     "metadata": {
      "needs_background": "light"
     },
     "output_type": "display_data"
    }
   ],
   "source": [
    "train['Fare'].hist(bins=30)"
   ]
  },
  {
   "cell_type": "code",
   "execution_count": 11,
   "metadata": {},
   "outputs": [],
   "source": [
    "def imputeage(cols):\n",
    "    Age = cols[0]\n",
    "    pclass = cols[1]\n",
    "    if pd.isnull(Age):\n",
    "        if pclass==1:\n",
    "            return 37\n",
    "        elif pclass==2:\n",
    "            return 29\n",
    "        else:\n",
    "            return 27\n",
    "    else:\n",
    "        return Age"
   ]
  },
  {
   "cell_type": "code",
   "execution_count": 12,
   "metadata": {},
   "outputs": [],
   "source": [
    "train['Age']= train[['Age','Pclass']].apply(imputeage,axis=1)"
   ]
  },
  {
   "cell_type": "code",
   "execution_count": 13,
   "metadata": {
    "scrolled": true
   },
   "outputs": [
    {
     "name": "stdout",
     "output_type": "stream",
     "text": [
      "<class 'pandas.core.frame.DataFrame'>\n",
      "RangeIndex: 891 entries, 0 to 890\n",
      "Data columns (total 12 columns):\n",
      "PassengerId    891 non-null int64\n",
      "Survived       891 non-null int64\n",
      "Pclass         891 non-null int64\n",
      "Name           891 non-null object\n",
      "Sex            891 non-null object\n",
      "Age            891 non-null float64\n",
      "SibSp          891 non-null int64\n",
      "Parch          891 non-null int64\n",
      "Ticket         891 non-null object\n",
      "Fare           891 non-null float64\n",
      "Cabin          204 non-null object\n",
      "Embarked       889 non-null object\n",
      "dtypes: float64(2), int64(5), object(5)\n",
      "memory usage: 83.6+ KB\n"
     ]
    }
   ],
   "source": [
    "train.info()"
   ]
  },
  {
   "cell_type": "code",
   "execution_count": 14,
   "metadata": {},
   "outputs": [],
   "source": [
    "train.drop('Cabin',axis=1,inplace=True)"
   ]
  },
  {
   "cell_type": "code",
   "execution_count": 15,
   "metadata": {},
   "outputs": [],
   "source": [
    "train.dropna(inplace=True)"
   ]
  },
  {
   "cell_type": "code",
   "execution_count": 16,
   "metadata": {
    "scrolled": false
   },
   "outputs": [
    {
     "name": "stdout",
     "output_type": "stream",
     "text": [
      "<class 'pandas.core.frame.DataFrame'>\n",
      "Int64Index: 889 entries, 0 to 890\n",
      "Data columns (total 11 columns):\n",
      "PassengerId    889 non-null int64\n",
      "Survived       889 non-null int64\n",
      "Pclass         889 non-null int64\n",
      "Name           889 non-null object\n",
      "Sex            889 non-null object\n",
      "Age            889 non-null float64\n",
      "SibSp          889 non-null int64\n",
      "Parch          889 non-null int64\n",
      "Ticket         889 non-null object\n",
      "Fare           889 non-null float64\n",
      "Embarked       889 non-null object\n",
      "dtypes: float64(2), int64(5), object(4)\n",
      "memory usage: 83.3+ KB\n"
     ]
    }
   ],
   "source": [
    "train.info()"
   ]
  },
  {
   "cell_type": "code",
   "execution_count": 17,
   "metadata": {},
   "outputs": [
    {
     "data": {
      "text/plain": [
       "PassengerId    0\n",
       "Survived       0\n",
       "Pclass         0\n",
       "Name           0\n",
       "Sex            0\n",
       "Age            0\n",
       "SibSp          0\n",
       "Parch          0\n",
       "Ticket         0\n",
       "Fare           0\n",
       "Embarked       0\n",
       "dtype: int64"
      ]
     },
     "execution_count": 17,
     "metadata": {},
     "output_type": "execute_result"
    }
   ],
   "source": [
    "train.isnull().sum()"
   ]
  },
  {
   "cell_type": "code",
   "execution_count": 18,
   "metadata": {
    "scrolled": true
   },
   "outputs": [
    {
     "data": {
      "text/plain": [
       "0    606\n",
       "1    209\n",
       "2     28\n",
       "4     18\n",
       "3     16\n",
       "8      7\n",
       "5      5\n",
       "Name: SibSp, dtype: int64"
      ]
     },
     "execution_count": 18,
     "metadata": {},
     "output_type": "execute_result"
    }
   ],
   "source": [
    "train['SibSp'].value_counts()"
   ]
  },
  {
   "cell_type": "code",
   "execution_count": 19,
   "metadata": {},
   "outputs": [
    {
     "data": {
      "text/plain": [
       "0    676\n",
       "1    118\n",
       "2     80\n",
       "5      5\n",
       "3      5\n",
       "4      4\n",
       "6      1\n",
       "Name: Parch, dtype: int64"
      ]
     },
     "execution_count": 19,
     "metadata": {},
     "output_type": "execute_result"
    }
   ],
   "source": [
    "train['Parch'].value_counts()"
   ]
  },
  {
   "cell_type": "code",
   "execution_count": 20,
   "metadata": {},
   "outputs": [],
   "source": [
    "train['SibSp']=train['SibSp'].astype('category')\n",
    "train['Parch']=train['Parch'].astype('category')"
   ]
  },
  {
   "cell_type": "code",
   "execution_count": 21,
   "metadata": {
    "scrolled": true
   },
   "outputs": [],
   "source": [
    "encodedDF = pd.get_dummies(train[['Embarked','Sex','SibSp','Parch']])"
   ]
  },
  {
   "cell_type": "code",
   "execution_count": 22,
   "metadata": {},
   "outputs": [],
   "source": [
    "X = pd.concat([encodedDF,train.drop(['PassengerId','Name','Ticket','Survived','Embarked','Sex','SibSp','Parch'],axis=1)],axis=1)"
   ]
  },
  {
   "cell_type": "code",
   "execution_count": 23,
   "metadata": {},
   "outputs": [],
   "source": [
    "#X = train.drop(['PassengerId','Name','Ticket','Survived'],axis=1)\n",
    "y= train['Survived']"
   ]
  },
  {
   "cell_type": "code",
   "execution_count": 24,
   "metadata": {},
   "outputs": [],
   "source": [
    "from sklearn.model_selection import train_test_split"
   ]
  },
  {
   "cell_type": "code",
   "execution_count": 25,
   "metadata": {},
   "outputs": [],
   "source": [
    "X_train, X_test, y_train, y_test = train_test_split(\n",
    "     X, y, test_size=0.2, random_state=101)"
   ]
  },
  {
   "cell_type": "code",
   "execution_count": 26,
   "metadata": {},
   "outputs": [],
   "source": [
    "from sklearn.linear_model import LogisticRegression"
   ]
  },
  {
   "cell_type": "code",
   "execution_count": 27,
   "metadata": {},
   "outputs": [],
   "source": [
    "log = LogisticRegression()"
   ]
  },
  {
   "cell_type": "code",
   "execution_count": 28,
   "metadata": {
    "scrolled": true
   },
   "outputs": [
    {
     "name": "stderr",
     "output_type": "stream",
     "text": [
      "C:\\Users\\Ravi\\Anaconda3\\lib\\site-packages\\sklearn\\linear_model\\_logistic.py:940: ConvergenceWarning: lbfgs failed to converge (status=1):\n",
      "STOP: TOTAL NO. of ITERATIONS REACHED LIMIT.\n",
      "\n",
      "Increase the number of iterations (max_iter) or scale the data as shown in:\n",
      "    https://scikit-learn.org/stable/modules/preprocessing.html\n",
      "Please also refer to the documentation for alternative solver options:\n",
      "    https://scikit-learn.org/stable/modules/linear_model.html#logistic-regression\n",
      "  extra_warning_msg=_LOGISTIC_SOLVER_CONVERGENCE_MSG)\n"
     ]
    },
    {
     "data": {
      "text/plain": [
       "LogisticRegression(C=1.0, class_weight=None, dual=False, fit_intercept=True,\n",
       "                   intercept_scaling=1, l1_ratio=None, max_iter=100,\n",
       "                   multi_class='auto', n_jobs=None, penalty='l2',\n",
       "                   random_state=None, solver='lbfgs', tol=0.0001, verbose=0,\n",
       "                   warm_start=False)"
      ]
     },
     "execution_count": 28,
     "metadata": {},
     "output_type": "execute_result"
    }
   ],
   "source": [
    "log.fit(X_train,y_train)"
   ]
  },
  {
   "cell_type": "code",
   "execution_count": 29,
   "metadata": {
    "scrolled": true
   },
   "outputs": [
    {
     "data": {
      "text/plain": [
       "array([1.14908115])"
      ]
     },
     "execution_count": 29,
     "metadata": {},
     "output_type": "execute_result"
    }
   ],
   "source": [
    "log.intercept_"
   ]
  },
  {
   "cell_type": "code",
   "execution_count": 30,
   "metadata": {
    "scrolled": true
   },
   "outputs": [
    {
     "data": {
      "text/plain": [
       "array([[ 4.03123391e-01,  5.82044034e-01,  4.38886897e-03,\n",
       "         1.76846901e+00, -7.78912718e-01,  8.76271243e-01,\n",
       "         8.35317778e-01,  3.09340428e-01, -5.19034596e-01,\n",
       "        -6.25223374e-02, -1.81212027e-01, -2.68604195e-01,\n",
       "         4.52769841e-01,  7.88397160e-01,  1.34648764e-01,\n",
       "         1.85718283e-01, -3.38556834e-01, -2.33420920e-01,\n",
       "         0.00000000e+00, -1.04592487e+00, -3.18765692e-02,\n",
       "         9.60862637e-04]])"
      ]
     },
     "execution_count": 30,
     "metadata": {},
     "output_type": "execute_result"
    }
   ],
   "source": [
    "log.coef_"
   ]
  },
  {
   "cell_type": "code",
   "execution_count": 31,
   "metadata": {},
   "outputs": [],
   "source": [
    "predict = log.predict(X_test)"
   ]
  },
  {
   "cell_type": "code",
   "execution_count": 32,
   "metadata": {},
   "outputs": [],
   "source": [
    "from sklearn.metrics import accuracy_score, classification_report, confusion_matrix,roc_auc_score"
   ]
  },
  {
   "cell_type": "code",
   "execution_count": 33,
   "metadata": {
    "scrolled": false
   },
   "outputs": [
    {
     "name": "stdout",
     "output_type": "stream",
     "text": [
      "0.8089887640449438\n"
     ]
    }
   ],
   "source": [
    "print(accuracy_score(y_test,predict))"
   ]
  },
  {
   "cell_type": "code",
   "execution_count": 34,
   "metadata": {
    "scrolled": true
   },
   "outputs": [
    {
     "name": "stdout",
     "output_type": "stream",
     "text": [
      "[[98  9]\n",
      " [25 46]]\n"
     ]
    }
   ],
   "source": [
    "print(confusion_matrix(y_test,predict))"
   ]
  },
  {
   "cell_type": "code",
   "execution_count": 35,
   "metadata": {
    "scrolled": true
   },
   "outputs": [
    {
     "name": "stdout",
     "output_type": "stream",
     "text": [
      "              precision    recall  f1-score   support\n",
      "\n",
      "           0       0.80      0.92      0.85       107\n",
      "           1       0.84      0.65      0.73        71\n",
      "\n",
      "    accuracy                           0.81       178\n",
      "   macro avg       0.82      0.78      0.79       178\n",
      "weighted avg       0.81      0.81      0.80       178\n",
      "\n"
     ]
    }
   ],
   "source": [
    "print(classification_report(y_test,predict))"
   ]
  },
  {
   "cell_type": "code",
   "execution_count": 36,
   "metadata": {
    "scrolled": true
   },
   "outputs": [
    {
     "name": "stdout",
     "output_type": "stream",
     "text": [
      "0.7818875872054759\n"
     ]
    }
   ],
   "source": [
    "print(roc_auc_score(y_test,predict))"
   ]
  },
  {
   "cell_type": "code",
   "execution_count": 53,
   "metadata": {},
   "outputs": [
    {
     "data": {
      "text/plain": [
       "2"
      ]
     },
     "execution_count": 53,
     "metadata": {},
     "output_type": "execute_result"
    }
   ],
   "source": [
    "pred_prob = log.predict_proba(X_test)\n",
    "pred_prob.ndim"
   ]
  },
  {
   "cell_type": "code",
   "execution_count": 63,
   "metadata": {},
   "outputs": [
    {
     "data": {
      "text/plain": [
       "array([0.90780374, 0.84680279, 0.25021345, 0.08120498, 0.84583425,\n",
       "       0.96066802, 0.90383305, 0.79118072, 0.92704242, 0.30914208,\n",
       "       0.2287603 , 0.04544701, 0.90781614, 0.2753931 , 0.90768707,\n",
       "       0.88737069, 0.09799529, 0.12822944, 0.42008023, 0.90781614,\n",
       "       0.90775447, 0.91024351, 0.61626301, 0.68795164, 0.95485178,\n",
       "       0.54808234, 0.40915233, 0.27281685, 0.92671959, 0.72786496,\n",
       "       0.84628212, 0.66954897, 0.97566045, 0.90236119, 0.89952984,\n",
       "       0.79627501, 0.22604404, 0.94079067, 0.81689568, 0.87756692,\n",
       "       0.42973005, 0.87399253, 0.89052486, 0.09058326, 0.40428092,\n",
       "       0.88425354, 0.41225894, 0.16204424, 0.90656828, 0.75782609,\n",
       "       0.55214954, 0.21987099, 0.81578176, 0.88717929, 0.90788413,\n",
       "       0.93326123, 0.56062698, 0.9203045 , 0.88725076, 0.0741797 ,\n",
       "       0.30914208, 0.08396238, 0.10310446, 0.90244553, 0.85879986,\n",
       "       0.95348149, 0.893642  , 0.60652961, 0.94593157, 0.85109922,\n",
       "       0.67560661, 0.86866005, 0.39678306, 0.10575076, 0.89473772,\n",
       "       0.30205653, 0.92496061, 0.86866005, 0.9051666 , 0.73376872,\n",
       "       0.70802394, 0.61184457, 0.57540993, 0.88737069, 0.6578598 ,\n",
       "       0.35999382, 0.93285441, 0.13059194, 0.89506309, 0.06092904,\n",
       "       0.45878575, 0.5137179 , 0.92031331, 0.92264814, 0.6488431 ,\n",
       "       0.08851745, 0.19993505, 0.54403272, 0.86858695, 0.14425564,\n",
       "       0.90383305, 0.11634636, 0.84680279, 0.77203792, 0.41391585,\n",
       "       0.90782585, 0.05189022, 0.68625536, 0.75061659, 0.61955242,\n",
       "       0.94383059, 0.58268705, 0.09671821, 0.25163633, 0.90781614,\n",
       "       0.11130807, 0.88079491, 0.86262291, 0.24020218, 0.15154338,\n",
       "       0.57003173, 0.87736971, 0.90775447, 0.8635254 , 0.8905108 ,\n",
       "       0.66929965, 0.21836265, 0.39484049, 0.10914218, 0.39340873,\n",
       "       0.79157731, 0.57768527, 0.07805872, 0.43623827, 0.93521774,\n",
       "       0.9162751 , 0.92287141, 0.8469139 , 0.42407798, 0.87380988,\n",
       "       0.93331183, 0.88735188, 0.77371525, 0.87919112, 0.61798846,\n",
       "       0.38363588, 0.89046317, 0.70543066, 0.68219886, 0.18245364,\n",
       "       0.90782585, 0.25661664, 0.3813086 , 0.21272924, 0.77043892,\n",
       "       0.74387959, 0.55002205, 0.93135836, 0.08719321, 0.67000794,\n",
       "       0.84690248, 0.90781614, 0.92251182, 0.54423686, 0.91032356,\n",
       "       0.66928765, 0.78626935, 0.93712407, 0.75129926, 0.75485989,\n",
       "       0.30203207, 0.61902501, 0.13713435, 0.54356245, 0.866252  ,\n",
       "       0.91045714, 0.67945345, 0.75834556])"
      ]
     },
     "execution_count": 63,
     "metadata": {},
     "output_type": "execute_result"
    }
   ],
   "source": [
    "pred_prob[::,0]"
   ]
  },
  {
   "cell_type": "code",
   "execution_count": 39,
   "metadata": {
    "scrolled": true
   },
   "outputs": [
    {
     "data": {
      "text/plain": [
       "array([0, 0, 1, 1, 0, 0, 0, 0, 0, 1, 1, 1, 0, 1, 0, 0, 1, 1, 1, 0, 0, 0,\n",
       "       0, 0, 0, 0, 1, 1, 0, 0, 0, 0, 0, 0, 0, 0, 1, 0, 0, 0, 1, 0, 0, 1,\n",
       "       1, 0, 1, 1, 0, 0, 0, 1, 0, 0, 0, 0, 0, 0, 0, 1, 1, 1, 1, 0, 0, 0,\n",
       "       0, 0, 0, 0, 0, 0, 1, 1, 0, 1, 0, 0, 0, 0, 0, 0, 0, 0, 0, 1, 0, 1,\n",
       "       0, 1, 1, 0, 0, 0, 0, 1, 1, 0, 0, 1, 0, 1, 0, 0, 1, 0, 1, 0, 0, 0,\n",
       "       0, 0, 1, 1, 0, 1, 0, 0, 1, 1, 0, 0, 0, 0, 0, 0, 1, 1, 1, 1, 0, 0,\n",
       "       1, 1, 0, 0, 0, 0, 1, 0, 0, 0, 0, 0, 0, 1, 0, 0, 0, 1, 0, 1, 1, 1,\n",
       "       0, 0, 0, 0, 1, 0, 0, 0, 0, 0, 0, 0, 0, 0, 0, 0, 1, 0, 1, 0, 0, 0,\n",
       "       0, 0], dtype=int64)"
      ]
     },
     "execution_count": 39,
     "metadata": {},
     "output_type": "execute_result"
    }
   ],
   "source": [
    "predict"
   ]
  },
  {
   "cell_type": "code",
   "execution_count": 40,
   "metadata": {},
   "outputs": [
    {
     "data": {
      "text/plain": [
       "array([[0.90780374, 0.09219626],\n",
       "       [0.84680279, 0.15319721],\n",
       "       [0.25021345, 0.74978655],\n",
       "       [0.08120498, 0.91879502],\n",
       "       [0.84583425, 0.15416575],\n",
       "       [0.96066802, 0.03933198],\n",
       "       [0.90383305, 0.09616695],\n",
       "       [0.79118072, 0.20881928],\n",
       "       [0.92704242, 0.07295758],\n",
       "       [0.30914208, 0.69085792],\n",
       "       [0.2287603 , 0.7712397 ],\n",
       "       [0.04544701, 0.95455299],\n",
       "       [0.90781614, 0.09218386],\n",
       "       [0.2753931 , 0.7246069 ],\n",
       "       [0.90768707, 0.09231293],\n",
       "       [0.88737069, 0.11262931],\n",
       "       [0.09799529, 0.90200471],\n",
       "       [0.12822944, 0.87177056],\n",
       "       [0.42008023, 0.57991977],\n",
       "       [0.90781614, 0.09218386],\n",
       "       [0.90775447, 0.09224553],\n",
       "       [0.91024351, 0.08975649],\n",
       "       [0.61626301, 0.38373699],\n",
       "       [0.68795164, 0.31204836],\n",
       "       [0.95485178, 0.04514822],\n",
       "       [0.54808234, 0.45191766],\n",
       "       [0.40915233, 0.59084767],\n",
       "       [0.27281685, 0.72718315],\n",
       "       [0.92671959, 0.07328041],\n",
       "       [0.72786496, 0.27213504],\n",
       "       [0.84628212, 0.15371788],\n",
       "       [0.66954897, 0.33045103],\n",
       "       [0.97566045, 0.02433955],\n",
       "       [0.90236119, 0.09763881],\n",
       "       [0.89952984, 0.10047016],\n",
       "       [0.79627501, 0.20372499],\n",
       "       [0.22604404, 0.77395596],\n",
       "       [0.94079067, 0.05920933],\n",
       "       [0.81689568, 0.18310432],\n",
       "       [0.87756692, 0.12243308],\n",
       "       [0.42973005, 0.57026995],\n",
       "       [0.87399253, 0.12600747],\n",
       "       [0.89052486, 0.10947514],\n",
       "       [0.09058326, 0.90941674],\n",
       "       [0.40428092, 0.59571908],\n",
       "       [0.88425354, 0.11574646],\n",
       "       [0.41225894, 0.58774106],\n",
       "       [0.16204424, 0.83795576],\n",
       "       [0.90656828, 0.09343172],\n",
       "       [0.75782609, 0.24217391],\n",
       "       [0.55214954, 0.44785046],\n",
       "       [0.21987099, 0.78012901],\n",
       "       [0.81578176, 0.18421824],\n",
       "       [0.88717929, 0.11282071],\n",
       "       [0.90788413, 0.09211587],\n",
       "       [0.93326123, 0.06673877],\n",
       "       [0.56062698, 0.43937302],\n",
       "       [0.9203045 , 0.0796955 ],\n",
       "       [0.88725076, 0.11274924],\n",
       "       [0.0741797 , 0.9258203 ],\n",
       "       [0.30914208, 0.69085792],\n",
       "       [0.08396238, 0.91603762],\n",
       "       [0.10310446, 0.89689554],\n",
       "       [0.90244553, 0.09755447],\n",
       "       [0.85879986, 0.14120014],\n",
       "       [0.95348149, 0.04651851],\n",
       "       [0.893642  , 0.106358  ],\n",
       "       [0.60652961, 0.39347039],\n",
       "       [0.94593157, 0.05406843],\n",
       "       [0.85109922, 0.14890078],\n",
       "       [0.67560661, 0.32439339],\n",
       "       [0.86866005, 0.13133995],\n",
       "       [0.39678306, 0.60321694],\n",
       "       [0.10575076, 0.89424924],\n",
       "       [0.89473772, 0.10526228],\n",
       "       [0.30205653, 0.69794347],\n",
       "       [0.92496061, 0.07503939],\n",
       "       [0.86866005, 0.13133995],\n",
       "       [0.9051666 , 0.0948334 ],\n",
       "       [0.73376872, 0.26623128],\n",
       "       [0.70802394, 0.29197606],\n",
       "       [0.61184457, 0.38815543],\n",
       "       [0.57540993, 0.42459007],\n",
       "       [0.88737069, 0.11262931],\n",
       "       [0.6578598 , 0.3421402 ],\n",
       "       [0.35999382, 0.64000618],\n",
       "       [0.93285441, 0.06714559],\n",
       "       [0.13059194, 0.86940806],\n",
       "       [0.89506309, 0.10493691],\n",
       "       [0.06092904, 0.93907096],\n",
       "       [0.45878575, 0.54121425],\n",
       "       [0.5137179 , 0.4862821 ],\n",
       "       [0.92031331, 0.07968669],\n",
       "       [0.92264814, 0.07735186],\n",
       "       [0.6488431 , 0.3511569 ],\n",
       "       [0.08851745, 0.91148255],\n",
       "       [0.19993505, 0.80006495],\n",
       "       [0.54403272, 0.45596728],\n",
       "       [0.86858695, 0.13141305],\n",
       "       [0.14425564, 0.85574436],\n",
       "       [0.90383305, 0.09616695],\n",
       "       [0.11634636, 0.88365364],\n",
       "       [0.84680279, 0.15319721],\n",
       "       [0.77203792, 0.22796208],\n",
       "       [0.41391585, 0.58608415],\n",
       "       [0.90782585, 0.09217415],\n",
       "       [0.05189022, 0.94810978],\n",
       "       [0.68625536, 0.31374464],\n",
       "       [0.75061659, 0.24938341],\n",
       "       [0.61955242, 0.38044758],\n",
       "       [0.94383059, 0.05616941],\n",
       "       [0.58268705, 0.41731295],\n",
       "       [0.09671821, 0.90328179],\n",
       "       [0.25163633, 0.74836367],\n",
       "       [0.90781614, 0.09218386],\n",
       "       [0.11130807, 0.88869193],\n",
       "       [0.88079491, 0.11920509],\n",
       "       [0.86262291, 0.13737709],\n",
       "       [0.24020218, 0.75979782],\n",
       "       [0.15154338, 0.84845662],\n",
       "       [0.57003173, 0.42996827],\n",
       "       [0.87736971, 0.12263029],\n",
       "       [0.90775447, 0.09224553],\n",
       "       [0.8635254 , 0.1364746 ],\n",
       "       [0.8905108 , 0.1094892 ],\n",
       "       [0.66929965, 0.33070035],\n",
       "       [0.21836265, 0.78163735],\n",
       "       [0.39484049, 0.60515951],\n",
       "       [0.10914218, 0.89085782],\n",
       "       [0.39340873, 0.60659127],\n",
       "       [0.79157731, 0.20842269],\n",
       "       [0.57768527, 0.42231473],\n",
       "       [0.07805872, 0.92194128],\n",
       "       [0.43623827, 0.56376173],\n",
       "       [0.93521774, 0.06478226],\n",
       "       [0.9162751 , 0.0837249 ],\n",
       "       [0.92287141, 0.07712859],\n",
       "       [0.8469139 , 0.1530861 ],\n",
       "       [0.42407798, 0.57592202],\n",
       "       [0.87380988, 0.12619012],\n",
       "       [0.93331183, 0.06668817],\n",
       "       [0.88735188, 0.11264812],\n",
       "       [0.77371525, 0.22628475],\n",
       "       [0.87919112, 0.12080888],\n",
       "       [0.61798846, 0.38201154],\n",
       "       [0.38363588, 0.61636412],\n",
       "       [0.89046317, 0.10953683],\n",
       "       [0.70543066, 0.29456934],\n",
       "       [0.68219886, 0.31780114],\n",
       "       [0.18245364, 0.81754636],\n",
       "       [0.90782585, 0.09217415],\n",
       "       [0.25661664, 0.74338336],\n",
       "       [0.3813086 , 0.6186914 ],\n",
       "       [0.21272924, 0.78727076],\n",
       "       [0.77043892, 0.22956108],\n",
       "       [0.74387959, 0.25612041],\n",
       "       [0.55002205, 0.44997795],\n",
       "       [0.93135836, 0.06864164],\n",
       "       [0.08719321, 0.91280679],\n",
       "       [0.67000794, 0.32999206],\n",
       "       [0.84690248, 0.15309752],\n",
       "       [0.90781614, 0.09218386],\n",
       "       [0.92251182, 0.07748818],\n",
       "       [0.54423686, 0.45576314],\n",
       "       [0.91032356, 0.08967644],\n",
       "       [0.66928765, 0.33071235],\n",
       "       [0.78626935, 0.21373065],\n",
       "       [0.93712407, 0.06287593],\n",
       "       [0.75129926, 0.24870074],\n",
       "       [0.75485989, 0.24514011],\n",
       "       [0.30203207, 0.69796793],\n",
       "       [0.61902501, 0.38097499],\n",
       "       [0.13713435, 0.86286565],\n",
       "       [0.54356245, 0.45643755],\n",
       "       [0.866252  , 0.133748  ],\n",
       "       [0.91045714, 0.08954286],\n",
       "       [0.67945345, 0.32054655],\n",
       "       [0.75834556, 0.24165444]])"
      ]
     },
     "execution_count": 40,
     "metadata": {},
     "output_type": "execute_result"
    }
   ],
   "source": [
    "pred_prob"
   ]
  },
  {
   "cell_type": "code",
   "execution_count": 41,
   "metadata": {
    "scrolled": true
   },
   "outputs": [],
   "source": [
    "pred_DB = np.where(pred_prob[:,0]>=0.5,0,1)"
   ]
  },
  {
   "cell_type": "code",
   "execution_count": 42,
   "metadata": {},
   "outputs": [
    {
     "data": {
      "text/plain": [
       "1.0"
      ]
     },
     "execution_count": 42,
     "metadata": {},
     "output_type": "execute_result"
    }
   ],
   "source": [
    "accuracy_score(predict,pred_DB)"
   ]
  }
 ],
 "metadata": {
  "kernelspec": {
   "display_name": "Python 3",
   "language": "python",
   "name": "python3"
  },
  "language_info": {
   "codemirror_mode": {
    "name": "ipython",
    "version": 3
   },
   "file_extension": ".py",
   "mimetype": "text/x-python",
   "name": "python",
   "nbconvert_exporter": "python",
   "pygments_lexer": "ipython3",
   "version": "3.7.3"
  }
 },
 "nbformat": 4,
 "nbformat_minor": 2
}
